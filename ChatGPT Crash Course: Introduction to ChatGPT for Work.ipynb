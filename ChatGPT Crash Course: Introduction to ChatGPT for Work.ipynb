# Project: Customer Service Chatbot
You'll finally have a chance to build your own chatbot by following the steps of this project! Follow the steps outlined in the notebook to build your very own customer service bot from scratch, using the ChatCompletion API.
## Setup
Our setup is the same from the previous project.
import openai
import panel as pn 
openai.api_key = "YOUR_API_KEY"

# Our get chat function stays the same, taking in a series of messages that provide the chat history, with the most recent one first.
def get_chat(messages, model="gpt-3.5-turbo"):
    response = openai.ChatCompletion.create(
    model=model,
    messages=messages,
    )
    return response.choices[0].message["content"]

# Appends user questions and ChatCompletion responses to maintain chat history.
def chat(prompt):
    context.append({'role':'user', 'content':f"{prompt}"})
    response = get_chat(context) 
    context.append({'role':'assistant', 'content':f"{response}"})
    return response

# Appending user questions and ChatCompletion responses for our GUI
def collect_chat_messages(_):
    prompt = inp.value_input
    panels.append(pn.Row('User:', pn.pane.Markdown(prompt, width=600)))
    response = chat(prompt)
    panels.append(pn.Row('Assistant:', pn.pane.Markdown(response, width=600, style={'background-color': '#F6F6F6'})))
    return pn.Column(*panels)
## Project Background
Congratulations, you have been officially hired as the first developer on the customer service team for a mid sized company who sells a web-based software product. ClarityChart is a flowcharting software that engineers use to document and visualize processes and systems.

The number one complaint of the team at ClarityChart is that nearly 80% of the support tickets that they recieve are one of four common problems:
1. Forgot username and password
2. App's drag and drop feature does not work
3. Slow app performance 
4. Incompatible browser causing black screen

You could save the support team **hours** by creating a chatbot to answer these four very simple use cases.

Luckily, the team has robust documentation on their team's Wiki.
| Problem                      | Solution                                                                                                            |
|:------------------------------:|:---------------------------------------------------------------------------------------------------------------------|
| Forgot username or password  | Provide link of our "change username and password" page. Found at this URL: [Recover](https://www.example.com/recover) |
| Drag and drop feature does not work         | Recommend the user use incognito mode (private browsing that is clear of cache and cookies)                        |                                 
| Slow app performance         | Follow these steps: <br> 1) Ensure that the user is not running too many browser tabs or applications on their desktop at the same time. <br> 2) If 1 does not work, link them to an internet speed test and ask them to test their connection. [Internet Speed Test](https://www.google.com/search?q=internet+speed+test) <br> 3) If 2 does not work, ask them to submit their request as a support ticket. [Submit a Ticket](https://www.example.com/submit-a-ticket) |
| Black screen                 | Ask the user whether their browser is compatible and link them to a list of compatible browsers.    [Compatible Browsers](https://www.example.com/compatible-browsers)                    |  |
# Outline of Project
1. Copy the table from the team's documentation and store it in a Python variable.
2. Create a **system** message for ChatGPT to define the task and set the scene. 
3. Render our panel
4. experiment with chatbot to see if it properly follows instructions and all conditions
## Step 1: Store the Problems and Solutions in a String
Store the team's wiki table as a variable assigned to a Python string `solutions`. Make sure to double click into the cell that contains the table so you can see the markdown used to format the table. This will ensure that ChatGPT will be able to read it.|
solutions = f""" | Problem                      | Solution                                                                                                            |
|:------------------------------:|:---------------------------------------------------------------------------------------------------------------------|
| Forgot username or password  | Provide link of our "change username and password" page. Found at this URL: [Recover](https://www.example.com/recover) |
| Drag and drop feature does not work         | Recommend the user use incognito mode (private browsing that is clear of cache and cookies)                        |                                 
| Slow app performance         | Follow these steps: <br> 1) Ensure that the user is not running too many browser tabs or applications on their desktop at the same time. <br> 2) If 1 does not work, link them to an internet speed test and ask them to test their connection. [Internet Speed Test](https://www.google.com/search?q=internet+speed+test) <br> 3) If 2 does not work, ask them to submit their request as a support ticket. [Submit a Ticket](https://www.example.com/submit-a-ticket) |
| Black screen                 | Ask the user whether their browser is compatible and link them to a list of compatible browsers.    [Compatible Browsers](https://www.example.com/compatible-browsers)                    |  |
 """
## Step 2: Create a System Message 
Remember system messages? **System messages** provide high-level instructions or context to the AI, such as setting a specific tone, guiding its behavior, or establishing constraints for the conversation. 

---

Time to put your prompt engineering skills to the test! **Write a system message that includes the following details:**

1. Create an identity for the AI (ClarityChart, customer service chatbot, etc.)
2. Clearly define the task. Your steps or instructions should include:
- Greet the customer
- Understand their issue
- Respond with the solution(s) provided in the table
- If no solution is found, have them submit a support ticket.
3. Define the style and tone.
4. Insert the table with the problems and solutions.
context = [{"role":'system', 'content': f"""

# YOUR PROMPT HERE

I want you to act as a customer service chatbot. \
Your company is a cloud-based producitivty software called \
ClaityChart. 

Your job is to diagnose and provide assistance to customers \
for common problems on ClarityChart.

Please follow these steps:
1) Greet the customer
2) Understand their issue
3) Respond with the corresponding solution(s)
4) If none of the provided solutions work, ask them if they
can sumbit their request as a support ticket.

The common problems and solutions to those problems are in a \
table delimited by triple backticks.

Please have a friendly and conversational tone.

Common problems: ```
{solutions}
```

"""}]
## Step 3: Define our GUI and Test the Chatbot
Just run these cells. They are the same as the previous project's! Then, test your chatbot by asking questions about all 4 of the common problems. Check to see if the chatbot is responding with the right solution.
pn.extension()
panels = []


inp = pn.widgets.TextInput(value = "hi", placeholder = 'Chat with us!')
button_conversation = pn.widgets.Button(name="Send")
interactive_conversation = pn.bind(collect_chat_messages, button_conversation)

dashboard = pn.Column(
    inp,
    pn.Row(button_conversation),
    pn.panel(interactive_conversation, loading_indicator = True, height = 275)
)

dashboard
